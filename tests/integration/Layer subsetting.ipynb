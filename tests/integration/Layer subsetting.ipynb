{
 "cells": [
  {
   "cell_type": "code",
   "execution_count": null,
   "metadata": {
    "collapsed": true
   },
   "outputs": [],
   "source": [
    "%matplotlib inline\n",
    "from matplotlib import pylab as plt\n",
    "from matplotlib.colors import LinearSegmentedColormap\n",
    "from geonotebook.wrappers import RasterData, VectorData\n",
    "import numpy as np\n",
    "from IPython.display import display, Image"
   ]
  },
  {
   "cell_type": "markdown",
   "metadata": {},
   "source": [
    "### Subsetting points"
   ]
  },
  {
   "cell_type": "code",
   "execution_count": null,
   "metadata": {
    "collapsed": false
   },
   "outputs": [],
   "source": [
    "EXPECTED=\"https://data.kitware.com/api/v1/item/58a3290d8d777f0721a5ce45/download\"\n",
    "# Set the center of the map to the location the data\n",
    "M.set_center(-120.32, 47.84, 8)\n",
    "\n",
    "# Clean up any layers that might already exist\n",
    "M.layers.annotation.clear_annotations()\n",
    "for l in M.layers:\n",
    "    M.remove_layer(l)\n",
    "\n",
    "rd = RasterData('data/WELD.tif')\n",
    "\n",
    "M.add_layer(rd[1, 2, 3])\n",
    "M.add_annotation('point', [-120.32, 47.84])\n",
    "\n",
    "display(Image(EXPECTED, format=\"png\"))"
   ]
  },
  {
   "cell_type": "code",
   "execution_count": null,
   "metadata": {
    "collapsed": false
   },
   "outputs": [],
   "source": [
    "layer, data = next(M.layers.annotation.points[0].data)\n",
    "assert layer == M.layers[0]\n",
    "assert all(np.isclose(data, [0.302, 0.3003, 0.2517], atol=10e-4))\n",
    "data"
   ]
  },
  {
   "cell_type": "markdown",
   "metadata": {},
   "source": [
    "### Subsetting rectangles"
   ]
  },
  {
   "cell_type": "code",
   "execution_count": null,
   "metadata": {
    "collapsed": false
   },
   "outputs": [],
   "source": [
    "EXPECTED=\"https://data.kitware.com/api/v1/item/58a329148d777f0721a5ce69/download\"\n",
    "# Set the center of the map to the location the data\n",
    "M.set_center(-120.533, 47.975, 12)\n",
    "\n",
    "# Clean up any layers that might already exist\n",
    "M.layers.annotation.clear_annotations()\n",
    "for l in M.layers:\n",
    "    M.remove_layer(l)\n",
    "\n",
    "rd = RasterData('data/WELD.tif')\n",
    "\n",
    "M.add_layer(rd[1, 2, 3])\n",
    "M.add_annotation('rectangle', [[-120.588, 47.932], [-120.588, 48.017], [-120.478, 48.017], [-120.478, 47.932]])\n",
    "\n",
    "display(Image(EXPECTED, format=\"png\"))"
   ]
  },
  {
   "cell_type": "code",
   "execution_count": null,
   "metadata": {
    "collapsed": false
   },
   "outputs": [],
   "source": [
    "layer, data = next(M.layers.annotation.rectangles[0].data)\n",
    "assert layer == M.layers[0]\n",
    "assert data.shape == (113, 146, 3)\n",
    "assert all(np.isclose(data[0, 0, :], [0.0712, 0.0848, 0.0701], atol=10e-4))\n",
    "plt.imshow(data)"
   ]
  },
  {
   "cell_type": "markdown",
   "metadata": {},
   "source": [
    "### Subsetting polygons"
   ]
  },
  {
   "cell_type": "code",
   "execution_count": null,
   "metadata": {
    "collapsed": false,
    "scrolled": true
   },
   "outputs": [],
   "source": [
    "EXPECTED=\"https://data.kitware.com/api/v1/item/58a346848d777f0721a61039/download\"\n",
    "# Set the center of the map to the location the data\n",
    "M.set_center(-120.533, 47.975, 12)\n",
    "\n",
    "# Clean up any layers that might already exist\n",
    "M.layers.annotation.clear_annotations()\n",
    "for l in M.layers:\n",
    "    M.remove_layer(l)\n",
    "\n",
    "rd = RasterData('data/WELD.tif')\n",
    "\n",
    "M.add_layer(rd[1, 2, 3])\n",
    "M.add_annotation('polygon', [\n",
    "    [-120.588, 47.932], [-120.643, 47.975], [-120.588, 48.017], [-120.478, 48.017], [-120.423, 47.975], [-120.478, 47.932]\n",
    "])\n",
    "\n",
    "display(Image(EXPECTED, format=\"png\"))"
   ]
  },
  {
   "cell_type": "code",
   "execution_count": null,
   "metadata": {
    "collapsed": false
   },
   "outputs": [],
   "source": [
    "layer, data = next(M.layers.annotation.polygons[0].data)\n",
    "assert layer == M.layers[0]\n",
    "assert data.shape == (113, 292, 3)\n",
    "assert all(np.isclose(data[55, 150, :], [0.0777, 0.0855, 0.0752], atol=10e-4))\n",
    "plt.imshow(data)"
   ]
  },
  {
   "cell_type": "markdown",
   "metadata": {},
   "source": [
    "### Subsetting vector data"
   ]
  },
  {
   "cell_type": "code",
   "execution_count": null,
   "metadata": {
    "collapsed": false
   },
   "outputs": [],
   "source": [
    "M.set_center(-119.63, 47.686, 8)\n",
    "\n",
    "M.layers.annotation.clear_annotations()\n",
    "for l in M.layers:\n",
    "    M.remove_layer(l)\n",
    "    \n",
    "rd = RasterData('data/WELD.tif')\n",
    "M.add_layer(rd[1, 2, 3])\n",
    "\n",
    "v = VectorData('data/wa_county')\n",
    "M.add_layer(v)"
   ]
  },
  {
   "cell_type": "code",
   "execution_count": null,
   "metadata": {
    "collapsed": false
   },
   "outputs": [],
   "source": [
    "county = next(v.polygons)\n",
    "_, data = next(county.data)\n",
    "plt.imshow(data)"
   ]
  }
 ],
 "metadata": {
  "kernelspec": {
   "display_name": "Geonotebook (Python 2)",
   "language": "python",
   "name": "geonotebook2"
  },
  "language_info": {
   "codemirror_mode": {
    "name": "ipython",
    "version": 2
   },
   "file_extension": ".py",
   "mimetype": "text/x-python",
   "name": "python",
   "nbconvert_exporter": "python",
   "pygments_lexer": "ipython2",
   "version": "2.7.12"
  }
 },
 "nbformat": 4,
 "nbformat_minor": 2
}
